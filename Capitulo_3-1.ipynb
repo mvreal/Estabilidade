{
 "cells": [
  {
   "cell_type": "markdown",
   "id": "1dc445f3-8f0f-41b7-a0fa-541467a1d3db",
   "metadata": {
    "id": "1dc445f3-8f0f-41b7-a0fa-541467a1d3db"
   },
   "source": [
    "### Universidade Federal do Rio Grande do Sul - UFRGS"
   ]
  },
  {
   "cell_type": "markdown",
   "id": "27d28d81-ad30-4559-b52d-0fee9ac96cae",
   "metadata": {
    "id": "27d28d81-ad30-4559-b52d-0fee9ac96cae"
   },
   "source": [
    "### Escola de Engenharia - EE"
   ]
  },
  {
   "cell_type": "markdown",
   "id": "103a5401-6849-4ee0-a254-08a7f684a870",
   "metadata": {
    "id": "103a5401-6849-4ee0-a254-08a7f684a870"
   },
   "source": [
    "### Programa de Pós-graduação em Engenharia Civil - PPGEC"
   ]
  },
  {
   "cell_type": "markdown",
   "id": "547b79f5-d7a3-4b02-8ce9-7c1647bff36b",
   "metadata": {
    "id": "547b79f5-d7a3-4b02-8ce9-7c1647bff36b"
   },
   "source": [
    "### Disciplina: Tópicos avançados em concreto - PEC00013"
   ]
  },
  {
   "cell_type": "markdown",
   "id": "189e93bb-f3e5-4536-9aec-d09046d6929b",
   "metadata": {
    "id": "189e93bb-f3e5-4536-9aec-d09046d6929b"
   },
   "source": [
    "### Professor: Dr. Mauro de Vasconcellos Real"
   ]
  },
  {
   "cell_type": "markdown",
   "id": "9187878f-2f69-43a6-9e66-d91991265288",
   "metadata": {},
   "source": [
    "# __Aula 03__"
   ]
  },
  {
   "cell_type": "markdown",
   "id": "ce78f794-4773-4210-bf0c-d89fd0e707f7",
   "metadata": {
    "id": "ce78f794-4773-4210-bf0c-d89fd0e707f7"
   },
   "source": [
    "# __Capítulo 3 - Exemplos de aplicação__ <a name=\"section_3\"></a>"
   ]
  },
  {
   "cell_type": "markdown",
   "id": "e4c7f828-335f-42ac-b316-e8fd6c4a263c",
   "metadata": {
    "id": "e4c7f828-335f-42ac-b316-e8fd6c4a263c",
    "tags": []
   },
   "source": [
    "[3.1 - Pilar birrotulado de seção variável sob carga lateral](#section_31)"
   ]
  },
  {
   "cell_type": "markdown",
   "id": "d203a6e2",
   "metadata": {
    "tags": []
   },
   "source": [
    "[3.2 - Pilar engastado e livre com seção variável](#section_32)"
   ]
  },
  {
   "cell_type": "markdown",
   "id": "5a4de045",
   "metadata": {},
   "source": [
    "[3.3 - Pilar engastado e livre com mudança de seção](#section_33)"
   ]
  },
  {
   "cell_type": "markdown",
   "id": "5bafba8c-efa5-4114-9f0e-603f32dbecc4",
   "metadata": {
    "id": "5bafba8c-efa5-4114-9f0e-603f32dbecc4",
    "tags": []
   },
   "source": [
    "## __3.1 - Pilar birrotulado de seção variável sob carga lateral__ <a name=\"section_31\"></a>"
   ]
  },
  {
   "cell_type": "markdown",
   "id": "88442f72-fdae-4248-a75b-bbff2d991c97",
   "metadata": {},
   "source": [
    "### Descrição do problema:"
   ]
  },
  {
   "cell_type": "markdown",
   "id": "aa0d6b7a-de9b-4050-b669-26628c6d4540",
   "metadata": {},
   "source": [
    "* No primeiro exemplo, é feita a verificação do pilar birrotulado, apresentado na figura abaixo."
   ]
  },
  {
   "cell_type": "markdown",
   "id": "4e3eb7d3-b94e-42a7-9967-eb43d228c585",
   "metadata": {
    "id": "4e3eb7d3-b94e-42a7-9967-eb43d228c585"
   },
   "source": [
    "<img src=\"./images3/pilar1_fig.jpg\" alt=\"Figura do Pilar1\" style=\"width:500px\"/>"
   ]
  },
  {
   "cell_type": "markdown",
   "id": "44de5aac-973b-4f8c-80e4-d7ce8e9fdf69",
   "metadata": {
    "id": "44de5aac-973b-4f8c-80e4-d7ce8e9fdf69"
   },
   "source": [
    "* O pilar possui seção variável sendo 30x25 nas estremidades e 60x25 na parte central.\n",
    "\n",
    "* O concreto possui $f_{ck} = 25 MPa$ e a armadura é constituída por barras de aço __CA-50__.\n",
    "\n",
    "* A armadura é posicionada junto as faces que distam entre si $25 cm$. A área de aço por face vale $A_s = 14.78 cm^2$ nas seções da base e do topo, e aumenta linearmente na direção da região central, onde assume o valor igual a $A_s = 29.55 cm^2$.\n",
    "\n",
    "* Além da força normal de compressão $Nd = 400 kN$ e do momento fletor $Md = 8 kNm$, aplicados nas duas extremidades, atua uma carga distribuída trapezoidal ao longo do comprimento do pilar, valendo $q_{base} = 30 kN/m$ na base e $q_{topo} = 15 kN/m$ no topo."
   ]
  },
  {
   "cell_type": "markdown",
   "id": "1e730373-a37d-4368-85d3-35460d5583d9",
   "metadata": {},
   "source": [
    "* Para a análise através do __Método do Equilíbrio__ é estabelecido um sistema de coordenadas $x0y$ situado na seção de topo do pilar, com o eixo $x$ situado no centroide do pilar e apontando para baixo, e o eixo $y$, também situado no centroide, apontando para a esquerda, conforme indicado na figura acima."
   ]
  },
  {
   "cell_type": "markdown",
   "id": "d246f8e2-f9a7-421f-b4da-6415ec68db3c",
   "metadata": {},
   "source": [
    "### Entrada de dados:"
   ]
  },
  {
   "cell_type": "markdown",
   "id": "e51c90c7-5ca4-46a1-888d-fb22be7c3bf0",
   "metadata": {},
   "source": [
    "* Os dados de entrada do programa pilar.py devem ser fornecidos conforme o arquivo de dados Exemplo1.xlsx"
   ]
  },
  {
   "cell_type": "markdown",
   "id": "409288c0-ac78-4c11-bdd0-7383781ca7f2",
   "metadata": {
    "id": "4e3eb7d3-b94e-42a7-9967-eb43d228c585"
   },
   "source": [
    "<img src=\"./images3/pilar11.jpg\" alt=\"planilha pilar 1-1\" style=\"width:800px\"/>"
   ]
  },
  {
   "cell_type": "markdown",
   "id": "cdf162bd-f34a-4ef8-907b-1859b8510550",
   "metadata": {
    "id": "4e3eb7d3-b94e-42a7-9967-eb43d228c585"
   },
   "source": [
    "<img src=\"./images3/pilar12.jpg\" alt=\"planilha pilar 1-2\" style=\"width:800px\"/>"
   ]
  },
  {
   "cell_type": "markdown",
   "id": "c8a62396-e58d-479e-90f2-b459b8731139",
   "metadata": {
    "id": "4e3eb7d3-b94e-42a7-9967-eb43d228c585"
   },
   "source": [
    "<img src=\"./images3/pilar13.jpg\" alt=\"planilha pilar 1-3\" style=\"width:800px\"/>"
   ]
  },
  {
   "cell_type": "markdown",
   "id": "93ba18df-2822-4018-a8ad-92b9e739fe2a",
   "metadata": {},
   "source": [
    "### Resultados:"
   ]
  },
  {
   "cell_type": "markdown",
   "id": "929e5c41-0ab5-4578-b348-dde170922239",
   "metadata": {},
   "source": [
    "* Os resultados da análise são mostrados na planilha abaixo:"
   ]
  },
  {
   "cell_type": "markdown",
   "id": "ae9da992-8fc1-4e53-bfcd-a8ea7f8c03fd",
   "metadata": {
    "id": "4e3eb7d3-b94e-42a7-9967-eb43d228c585"
   },
   "source": [
    "<img src=\"./images3/resultados_exemplo_1.jpg\" alt=\"resultados do exemplo 1\" style=\"width:500px\"/>"
   ]
  },
  {
   "cell_type": "markdown",
   "id": "f1f4b2fd-7757-482d-b591-8c73b6585229",
   "metadata": {},
   "source": [
    "* Os diagramas da deformada do eixo do pilar $y(x)$, do esforço cortante $V(x)$, do esforço normal $N(x)$ e do momento fletor $M(x)$ se encontram na figura abaixo."
   ]
  },
  {
   "cell_type": "markdown",
   "id": "5242e4e9-9674-41a1-b8b5-155915a2e2a2",
   "metadata": {},
   "source": [
    "<img src=\"./images3/graf_pilar_1.jpg\" alt=\"gráficos do pilar 1\" style=\"width:800px\"/>"
   ]
  }
 ],
 "metadata": {
  "colab": {
   "name": "Capítulo_1.ipynb",
   "provenance": []
  },
  "kernelspec": {
   "display_name": "Python 3 (ipykernel)",
   "language": "python",
   "name": "python3"
  },
  "language_info": {
   "codemirror_mode": {
    "name": "ipython",
    "version": 3
   },
   "file_extension": ".py",
   "mimetype": "text/x-python",
   "name": "python",
   "nbconvert_exporter": "python",
   "pygments_lexer": "ipython3",
   "version": "3.10.9"
  }
 },
 "nbformat": 4,
 "nbformat_minor": 5
}
