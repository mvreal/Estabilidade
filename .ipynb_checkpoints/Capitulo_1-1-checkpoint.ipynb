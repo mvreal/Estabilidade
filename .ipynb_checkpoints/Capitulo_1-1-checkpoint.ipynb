{
 "cells": [
  {
   "cell_type": "markdown",
   "id": "1dc445f3-8f0f-41b7-a0fa-541467a1d3db",
   "metadata": {
    "id": "1dc445f3-8f0f-41b7-a0fa-541467a1d3db"
   },
   "source": [
    "### Universidade Federal do Rio Grande do Sul - UFRGS"
   ]
  },
  {
   "cell_type": "markdown",
   "id": "27d28d81-ad30-4559-b52d-0fee9ac96cae",
   "metadata": {
    "id": "27d28d81-ad30-4559-b52d-0fee9ac96cae"
   },
   "source": [
    "### Escola de Engenharia - EE"
   ]
  },
  {
   "cell_type": "markdown",
   "id": "103a5401-6849-4ee0-a254-08a7f684a870",
   "metadata": {
    "id": "103a5401-6849-4ee0-a254-08a7f684a870"
   },
   "source": [
    "### Programa de Pós-graduação em Engenharia Civil - PPGEC"
   ]
  },
  {
   "cell_type": "markdown",
   "id": "547b79f5-d7a3-4b02-8ce9-7c1647bff36b",
   "metadata": {
    "id": "547b79f5-d7a3-4b02-8ce9-7c1647bff36b"
   },
   "source": [
    "### Disciplina: Tópicos avançados em concreto - PEC00013"
   ]
  },
  {
   "cell_type": "markdown",
   "id": "189e93bb-f3e5-4536-9aec-d09046d6929b",
   "metadata": {
    "id": "189e93bb-f3e5-4536-9aec-d09046d6929b"
   },
   "source": [
    "### Professor: Dr. Mauro de Vasconcellos Real"
   ]
  },
  {
   "cell_type": "markdown",
   "id": "9187878f-2f69-43a6-9e66-d91991265288",
   "metadata": {},
   "source": [
    "# __Aula 01__"
   ]
  },
  {
   "cell_type": "markdown",
   "id": "ce78f794-4773-4210-bf0c-d89fd0e707f7",
   "metadata": {
    "id": "ce78f794-4773-4210-bf0c-d89fd0e707f7"
   },
   "source": [
    "# __Capítulo 1 - Fundamentos. Seção Poligonal__ <a name=\"section_1\"></a>"
   ]
  },
  {
   "cell_type": "markdown",
   "id": "e4c7f828-335f-42ac-b316-e8fd6c4a263c",
   "metadata": {
    "id": "e4c7f828-335f-42ac-b316-e8fd6c4a263c"
   },
   "source": [
    "[1.1 - Instabilidade na compressão axial - flambagem](#section_11)"
   ]
  },
  {
   "cell_type": "markdown",
   "id": "d203a6e2",
   "metadata": {},
   "source": [
    "[1.2 - Instabilidade na flexão composta](#section_12)"
   ]
  },
  {
   "cell_type": "markdown",
   "id": "5a4de045",
   "metadata": {},
   "source": [
    "[1.3 - Recomendações da norma brasileira NBR-6118:2014 sobre o projeto de pilares](#section_13)"
   ]
  },
  {
   "cell_type": "markdown",
   "id": "5bafba8c-efa5-4114-9f0e-603f32dbecc4",
   "metadata": {
    "id": "5bafba8c-efa5-4114-9f0e-603f32dbecc4"
   },
   "source": [
    "## __1.1 - Instabilidade na compressão axial - flambagem__ <a name=\"section_12\"></a>"
   ]
  },
  {
   "cell_type": "markdown",
   "id": "aa0d6b7a-de9b-4050-b669-26628c6d4540",
   "metadata": {},
   "source": [
    "### Barra reta sob carga axial de material elástico linear"
   ]
  },
  {
   "cell_type": "markdown",
   "id": "4e3eb7d3-b94e-42a7-9967-eb43d228c585",
   "metadata": {
    "id": "4e3eb7d3-b94e-42a7-9967-eb43d228c585"
   },
   "source": [
    "<img src=\"./images1/pilar1.jpg\" alt=\"barra reta compressão axial\" style=\"width:474px\"/>"
   ]
  },
  {
   "cell_type": "markdown",
   "id": "8f43c4fb",
   "metadata": {},
   "source": [
    "<font size=\"-2\">Fonte: FUSCO, P.B.  Estruturas de concreto - Solicitações normais. Rio de Janeiro, Guanabara Dois, 1981. </font>"
   ]
  },
  {
   "cell_type": "markdown",
   "id": "44de5aac-973b-4f8c-80e4-d7ce8e9fdf69",
   "metadata": {
    "id": "44de5aac-973b-4f8c-80e4-d7ce8e9fdf69"
   },
   "source": [
    "* Tomando-se uma barra reta, axialmente comprimida, de comportamento elástico-linear, verifica-se experimentalmente que, sob ação de carregamentos crescentes, atinge-se um estado no qual a forma reta de equilíbrio é __instável__. \n",
    "\n",
    "* A carga correspondente a este estado é chamada __carga crítica__ ou __carga de flambagem__.\n",
    "\n",
    "* O fenômeno de instabilidade das barras retas axialmente comprimidas é caracterizado pela\n",
    "presença do __ponto de bifurcação do equilíbrio__, no diagrama que relaciona a carga $F$ aplicada com o máximo deslocamento “$a$” da barra."
   ]
  },
  {
   "cell_type": "markdown",
   "id": "6fed8a23-83cf-4ab0-ac2c-2bd0effe578c",
   "metadata": {
    "id": "6fed8a23-83cf-4ab0-ac2c-2bd0effe578c"
   },
   "source": [
    "### Carga crítica de flambagem"
   ]
  },
  {
   "cell_type": "markdown",
   "id": "5ff56506",
   "metadata": {},
   "source": [
    "* A carga crítica ou carga de flambagem é dada por"
   ]
  },
  {
   "cell_type": "markdown",
   "id": "9c455f4d-2438-4b8a-a6e7-77243a993c84",
   "metadata": {},
   "source": [
    "$$ F_{crit} = \\frac{\\pi^2 EI}{l_{e}^2} $$"
   ]
  },
  {
   "cell_type": "markdown",
   "id": "409eacc5-78a9-47ea-93e9-3a7e9c3d8585",
   "metadata": {
    "id": "409eacc5-78a9-47ea-93e9-3a7e9c3d8585"
   },
   "source": [
    "onde $l_e$ é o comprimento de flambagem da barra, que depende de sua vinculação e de seu comprimento."
   ]
  },
  {
   "cell_type": "markdown",
   "id": "772c0d48",
   "metadata": {},
   "source": [
    "<img src=\"./images1/vinculos.jpg\" alt=\"condições de vinculação\" style=\"width:500px\"/>"
   ]
  },
  {
   "cell_type": "markdown",
   "id": "4ec792ce-93eb-4c0b-8545-cda7b286ba14",
   "metadata": {},
   "source": [
    "<font size=\"-2\">Fonte: FUSCO, P.B.  Estruturas de concreto - Solicitações normais. Rio de Janeiro, Guanabara Dois, 1981. </font>"
   ]
  },
  {
   "cell_type": "markdown",
   "id": "cbc08c8c-6d69-4a2d-8619-717624e9a325",
   "metadata": {
    "id": "cbc08c8c-6d69-4a2d-8619-717624e9a325"
   },
   "source": [
    "* Para os materiais estruturais, como o concreto e o aço, a situação de flambagem seria um estado limite último. \n",
    "\n",
    "* Para cargas pouco superiores à carga crítica, a flecha já é igual a uma fração preciável do comprimento da barra, levando a barra a ruptura por flexão composta. \n",
    "\n",
    "* Em outros materiais, a barra pode resistir a cargas sensivelmente superiores à carga de flambagem, pelo que o estado limite de flambagem deixa de ser um estado limite último."
   ]
  },
  {
   "cell_type": "markdown",
   "id": "5e9bd6f9-8150-4b99-86dd-3f309c98870f",
   "metadata": {
    "id": "6fed8a23-83cf-4ab0-ac2c-2bd0effe578c"
   },
   "source": [
    "### Barra de comportamento não-linear axialmente comprimida"
   ]
  },
  {
   "cell_type": "markdown",
   "id": "aba57c48-292b-4ee5-bbf3-e104d13b9e12",
   "metadata": {},
   "source": [
    "* Se o material analisado tem um comportamento linear apenas para tensões menores que um dado limite de proporcionalidade, observa-se uma mudança da forma de equilíbrio, para cargas críticas superiores a este limite. \n",
    "\n",
    "* Neste caso, para cargas superiores à carga crítica, a forma reta de equilíbrio é instável e a forma fletida é impossível."
   ]
  },
  {
   "cell_type": "markdown",
   "id": "9c874738-1a3f-40d9-8c9b-a2ff1ab7d235",
   "metadata": {},
   "source": [
    "<img src=\"./images1/pilar2.jpg\" alt=\"material inelástico\" style=\"width:500px\"/>"
   ]
  },
  {
   "cell_type": "markdown",
   "id": "5803d4e4-1a2c-4e3d-805f-7eb941a096aa",
   "metadata": {
    "id": "5bafba8c-efa5-4114-9f0e-603f32dbecc4"
   },
   "source": [
    "## __1.2 - Instabilidade na flexão composta__ <a name=\"section_12\"></a>"
   ]
  },
  {
   "cell_type": "markdown",
   "id": "c8a1649c-b7af-458c-89ad-e5908fd8c501",
   "metadata": {
    "id": "6fed8a23-83cf-4ab0-ac2c-2bd0effe578c"
   },
   "source": [
    "### Barra de comportamento elástico linear sob flexão composta"
   ]
  },
  {
   "cell_type": "markdown",
   "id": "e864d29c-d891-46d7-8c4a-297a338d2b0b",
   "metadata": {},
   "source": [
    "<img src=\"./images1/pilar3.jpg\" alt=\"flexão composta\" style=\"width:500px\"/>"
   ]
  },
  {
   "cell_type": "markdown",
   "id": "ba45f1d2-c12e-4d87-a6ef-b4bbf3637651",
   "metadata": {},
   "source": [
    "* Considerando-se uma barra reta, de comportamento elástico-linear, submetida à flexão composta, observa-se que enquanto o material permanecer no regime elástico, não existe problema de instabilidade, pois sempre haverá uma configuração de equilíbrio estável."
   ]
  },
  {
   "cell_type": "markdown",
   "id": "b2beabf1-8db8-4cdd-a572-8558816d2886",
   "metadata": {
    "id": "6fed8a23-83cf-4ab0-ac2c-2bd0effe578c"
   },
   "source": [
    "### Barra de comportamento não-linear sob flexão composta"
   ]
  },
  {
   "cell_type": "markdown",
   "id": "4eef0478-728e-4451-a0fe-cae2c69b2478",
   "metadata": {},
   "source": [
    "<img src=\"./images1/pilar4.jpg\" alt=\"flexão composta material não-linear\" style=\"width:500px\"/>"
   ]
  },
  {
   "cell_type": "markdown",
   "id": "a210839c-aa07-460c-a0a3-2732942a6b55",
   "metadata": {},
   "source": [
    "* Caso o material apresente um comportamento não-linear, o equilíbrio é impossível para uma carga maior que a carga crítica.\n",
    "\n",
    "* O ponto B não corresponde a uma mudança da configuração de equilíbrio estável, mas sim a uma reversão do andamento das deformações.\n",
    "\n",
    "* Antes de se atingir este ponto, isto é, para uma carga inferior à carga crítica, a um aumento de “$F$” corresponde um aumento da flecha “$a$”. \n",
    "\n",
    "* Pelo contrário, após ser atingido o ponto B, não só é impossível aumentar a carga, como a própria manutenção do equilíbrio somente será possível com um sistema de deformação controlada, pois o aumento das flechas corresponde a uma diminuição das cargas."
   ]
  },
  {
   "cell_type": "markdown",
   "id": "a34d239e-45e7-4164-8295-1d59cc7e1e30",
   "metadata": {
    "id": "5bafba8c-efa5-4114-9f0e-603f32dbecc4"
   },
   "source": [
    "## __1.3 - Recomendações da norma brasileira NBR-6118:2014 sobre pilares__ <a name=\"section_13\"></a>"
   ]
  },
  {
   "cell_type": "markdown",
   "id": "9c27b9cc-94e4-438c-b32d-487aa2b8c461",
   "metadata": {},
   "source": [
    "* Conforme a NBR-6118, o tipo de verificação a ser feita em pilares depende do __índice de esbeltez__ que o pilar apresenta.\n",
    "\n",
    "* O índice de esbeltez $\\lambda$ é definido por:"
   ]
  },
  {
   "cell_type": "markdown",
   "id": "1a8f5187-2382-4c08-ba45-ec5221c73c04",
   "metadata": {},
   "source": [
    "$$ \\lambda = \\frac{l_{e}}{i} $$"
   ]
  },
  {
   "cell_type": "markdown",
   "id": "7ba826bd-dda3-466c-8e9a-ef6638e2e63a",
   "metadata": {},
   "source": [
    "onde $l_e$ é o comprimento equivalente do pilar e $i$ é o raio de giração mínimo da seção de concreto, calculado por:"
   ]
  },
  {
   "cell_type": "markdown",
   "id": "f32fb60a-9085-4bf9-bb4f-cd90455e5912",
   "metadata": {},
   "source": [
    "$$ i = \\sqrt{\\left(\\frac{J_c}{A_c}\\right)} $$"
   ]
  },
  {
   "cell_type": "markdown",
   "id": "e35a778b-713c-45f1-89e2-8f1318c632ea",
   "metadata": {},
   "source": [
    "sendo $A_c$ a área e $J_c$ o momento principal central de inércia mínimo da seção transversal do pilar."
   ]
  },
  {
   "cell_type": "markdown",
   "id": "d6d71dbb-585e-45bf-82a0-673be517498a",
   "metadata": {
    "id": "6fed8a23-83cf-4ab0-ac2c-2bd0effe578c"
   },
   "source": [
    "### Exigências da NBR-6118:2014 para a verificação de pilares"
   ]
  },
  {
   "cell_type": "markdown",
   "id": "f6d3d017-9042-4e27-87b0-dc6cbf3ed356",
   "metadata": {},
   "source": [
    "* As exigências da NBR-6118, relativas aos pilares, podem ser resumidas na tabela seguinte."
   ]
  },
  {
   "cell_type": "markdown",
   "id": "d900114d-efc3-4288-b4ce-560da196b48c",
   "metadata": {
    "tags": []
   },
   "source": [
    "<img src=\"./images1/nbr-6118.jpg\" alt=\"recomendações NBR-6118 pilares\" style=\"width:800px\"/>"
   ]
  },
  {
   "cell_type": "code",
   "execution_count": null,
   "id": "85cd2901-c101-4212-b3e2-9484bd5b8915",
   "metadata": {},
   "outputs": [],
   "source": []
  }
 ],
 "metadata": {
  "colab": {
   "name": "Capítulo_1.ipynb",
   "provenance": []
  },
  "kernelspec": {
   "display_name": "Python 3 (ipykernel)",
   "language": "python",
   "name": "python3"
  },
  "language_info": {
   "codemirror_mode": {
    "name": "ipython",
    "version": 3
   },
   "file_extension": ".py",
   "mimetype": "text/x-python",
   "name": "python",
   "nbconvert_exporter": "python",
   "pygments_lexer": "ipython3",
   "version": "3.10.9"
  }
 },
 "nbformat": 4,
 "nbformat_minor": 5
}
