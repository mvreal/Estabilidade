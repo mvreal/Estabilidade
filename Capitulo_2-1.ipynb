{
 "cells": [
  {
   "cell_type": "markdown",
   "id": "1dc445f3-8f0f-41b7-a0fa-541467a1d3db",
   "metadata": {
    "id": "1dc445f3-8f0f-41b7-a0fa-541467a1d3db"
   },
   "source": [
    "### Universidade Federal do Rio Grande do Sul - UFRGS"
   ]
  },
  {
   "cell_type": "markdown",
   "id": "27d28d81-ad30-4559-b52d-0fee9ac96cae",
   "metadata": {
    "id": "27d28d81-ad30-4559-b52d-0fee9ac96cae"
   },
   "source": [
    "### Escola de Engenharia - EE"
   ]
  },
  {
   "cell_type": "markdown",
   "id": "103a5401-6849-4ee0-a254-08a7f684a870",
   "metadata": {
    "id": "103a5401-6849-4ee0-a254-08a7f684a870"
   },
   "source": [
    "### Programa de Pós-graduação em Engenharia Civil - PPGEC"
   ]
  },
  {
   "cell_type": "markdown",
   "id": "547b79f5-d7a3-4b02-8ce9-7c1647bff36b",
   "metadata": {
    "id": "547b79f5-d7a3-4b02-8ce9-7c1647bff36b"
   },
   "source": [
    "### Disciplina: Tópicos avançados em concreto - PEC00013"
   ]
  },
  {
   "cell_type": "markdown",
   "id": "189e93bb-f3e5-4536-9aec-d09046d6929b",
   "metadata": {
    "id": "189e93bb-f3e5-4536-9aec-d09046d6929b"
   },
   "source": [
    "### Professor: Dr. Mauro de Vasconcellos Real"
   ]
  },
  {
   "cell_type": "markdown",
   "id": "9187878f-2f69-43a6-9e66-d91991265288",
   "metadata": {},
   "source": [
    "# __Aula 02__"
   ]
  },
  {
   "cell_type": "markdown",
   "id": "ce78f794-4773-4210-bf0c-d89fd0e707f7",
   "metadata": {
    "id": "ce78f794-4773-4210-bf0c-d89fd0e707f7"
   },
   "source": [
    "# __Capítulo 2 - Verificação da estabilidade de um pilar pelo método do equilíbrio__ <a name=\"section_2\"></a>"
   ]
  },
  {
   "cell_type": "markdown",
   "id": "e4c7f828-335f-42ac-b316-e8fd6c4a263c",
   "metadata": {
    "id": "e4c7f828-335f-42ac-b316-e8fd6c4a263c"
   },
   "source": [
    "[2.1 - O método do equilíbrio](#section_21)"
   ]
  },
  {
   "cell_type": "markdown",
   "id": "d203a6e2",
   "metadata": {},
   "source": [
    "[2.2 - Determinação dos deslocamentos pela analogia de Mohr](#section_22)"
   ]
  },
  {
   "cell_type": "markdown",
   "id": "5a4de045",
   "metadata": {},
   "source": [
    "[2.3 - Roteiro do método do equilíbrio](#section_23)"
   ]
  },
  {
   "cell_type": "markdown",
   "id": "2140eace-91a1-4d96-87fb-b22b92d0f077",
   "metadata": {
    "tags": []
   },
   "source": [
    "[2.4 -  Determinação das curvaturas das seções a partir do momento fletor e do esforço normal atuante](#section_24)"
   ]
  },
  {
   "cell_type": "markdown",
   "id": "ef17f720-67f0-48a1-b784-edd45acba90b",
   "metadata": {
    "tags": []
   },
   "source": [
    "[2.5 -  Instabilidade na flexão composta oblíqua](#section_25)"
   ]
  },
  {
   "cell_type": "markdown",
   "id": "2f3d0d8f-2e18-4adb-9102-156627494145",
   "metadata": {
    "tags": []
   },
   "source": [
    "[2.6 -  Princípios básicos de cálculo segundo a norma NBR-6118:2014](#section_26)"
   ]
  },
  {
   "cell_type": "markdown",
   "id": "e0717219-ab5e-4eaf-b697-643f1789d3e7",
   "metadata": {
    "tags": []
   },
   "source": [
    "[2.7 -  Consideração da fluência](#section_27)"
   ]
  },
  {
   "cell_type": "markdown",
   "id": "5bafba8c-efa5-4114-9f0e-603f32dbecc4",
   "metadata": {
    "id": "5bafba8c-efa5-4114-9f0e-603f32dbecc4"
   },
   "source": [
    "## __2.1 - O método do equilibrio__ <a name=\"section_21\"></a>"
   ]
  },
  {
   "cell_type": "markdown",
   "id": "aa0d6b7a-de9b-4050-b669-26628c6d4540",
   "metadata": {},
   "source": [
    "### Pilar esbelto sob flexão composta"
   ]
  },
  {
   "cell_type": "markdown",
   "id": "4e3eb7d3-b94e-42a7-9967-eb43d228c585",
   "metadata": {
    "id": "4e3eb7d3-b94e-42a7-9967-eb43d228c585"
   },
   "source": [
    "<img src=\"./images2/curva1.jpg\" alt=\"curva carga-deslocamento\" style=\"width:500px\"/>"
   ]
  },
  {
   "cell_type": "markdown",
   "id": "44de5aac-973b-4f8c-80e4-d7ce8e9fdf69",
   "metadata": {
    "id": "44de5aac-973b-4f8c-80e4-d7ce8e9fdf69"
   },
   "source": [
    "* A idéia básica do __método do equilíbrio__ é realizar a verificação da segurança de um pilar, frente ao estado limite de instabilidade, sem a necessidade da determinação da carga crítica do mesmo. \n",
    "\n",
    "* Ou seja, o __método do equilíbrio__ consiste em verificar-se que, sob a ação do carregamento de cálculo “$F_d$”, tem-se um deslocamento “$a$” em uma seção de referência do pilar, e que tal situação corresponde a uma configuração estável de equilíbrio."
   ]
  },
  {
   "cell_type": "markdown",
   "id": "1e730373-a37d-4368-85d3-35460d5583d9",
   "metadata": {},
   "source": [
    "* Desta forma, calcula-se apenas um ponto do diagrama carga-deslocamento do pilar."
   ]
  },
  {
   "cell_type": "markdown",
   "id": "e51c90c7-5ca4-46a1-888d-fb22be7c3bf0",
   "metadata": {},
   "source": [
    "* Na figura seguinte, apresenta-se, esquematicamente, o procedimento de verificação da estabilidade de um pilar, usando o método do equilíbrio."
   ]
  },
  {
   "cell_type": "markdown",
   "id": "967606ba-e0c7-4a66-b553-05cdcaf8613c",
   "metadata": {
    "id": "4e3eb7d3-b94e-42a7-9967-eb43d228c585"
   },
   "source": [
    "<img src=\"./images2/curva2.jpg\" alt=\"curva carga-deslocamento\" style=\"width:500px\"/>"
   ]
  },
  {
   "cell_type": "markdown",
   "id": "18a27ce1-a419-4c53-921a-03a0f28cb60c",
   "metadata": {},
   "source": [
    "* Na primeira etapa, determina-se o deslocamento $a_1$, calculando-se as solicitações considerando-se a configuração indeformada do pilar.\n",
    "\n",
    "* Qualquer que seja o tipo de carregamento ou de variação da seção transversal, calcula-se a flecha $a_1$ a partir das __relações momento fletor-esforço normal-curvatura__."
   ]
  },
  {
   "cell_type": "markdown",
   "id": "409288c0-ac78-4c11-bdd0-7383781ca7f2",
   "metadata": {
    "id": "4e3eb7d3-b94e-42a7-9967-eb43d228c585"
   },
   "source": [
    "<img src=\"./images2/Mohr1.jpg\" alt=\"analogia de Mohr\" style=\"width:500px\"/>"
   ]
  },
  {
   "cell_type": "markdown",
   "id": "dac13680-5f85-4c95-983f-989ebeb8c244",
   "metadata": {},
   "source": [
    "* As flechas calculadas $a_1, a_2, a_3, \\dots, a_{n-1}, a_n$ constituem-se numa sequência que, quando convergente, comprova a estabilidade da configuração de equilíbrio. \n",
    "\n",
    "* A convergência da sequência pode ser constatada numericamente.\n",
    "\n",
    "* Quando ela ocorre, sabe-se que a carga $F_d$ está abaixo da carga crítica."
   ]
  },
  {
   "cell_type": "markdown",
   "id": "cdc63114-c56b-4559-a660-ee848bf18030",
   "metadata": {},
   "source": [
    "* Desta forma, para aplicação do método do equilíbrio, precisa-se, em cada uma das etapas, do seguinte:\n",
    "\n",
    "1. calcular as solicitações ao longo do eixo do pilar, a partir de uma configuração deformada;\n",
    "\n",
    "2. conhecidas as solicitações de uma seção, calcular a curvatura correspondente;\n",
    "\n",
    "3. integrar as curvaturas das diferentes seções, ao longo do eixo do pilar, para obter os deslocamentos."
   ]
  },
  {
   "cell_type": "markdown",
   "id": "e6d17fbe-fcb2-43c4-a043-0415c35e38bd",
   "metadata": {
    "id": "5bafba8c-efa5-4114-9f0e-603f32dbecc4"
   },
   "source": [
    "## __2.2 - Determinação dos deslocamentos pela analogia de Mohr__ <a name=\"section_22\"></a>"
   ]
  },
  {
   "cell_type": "markdown",
   "id": "b005481d-9f44-4285-b21b-91b8336f3684",
   "metadata": {},
   "source": [
    "* Para a determinação dos deslocamentos dos pilares, é necessário integrar as curvaturas das diversas seções ao longo do eixo do pilar.\n",
    "\n",
    "* Isto pode ser feito através da __analogia de Mohr__."
   ]
  },
  {
   "cell_type": "markdown",
   "id": "94bbbb14-9586-4e4b-9dc4-07d25b2e413e",
   "metadata": {},
   "source": [
    "### Analogia de Mohr"
   ]
  },
  {
   "cell_type": "markdown",
   "id": "990f7e5a-3a7a-48f6-a644-ec647dd88dd6",
   "metadata": {},
   "source": [
    "* Considerando-se a semelhança que existe entre as expressões:"
   ]
  },
  {
   "cell_type": "markdown",
   "id": "7fe33ca9-4f52-46a9-a6ea-17aa6da4396d",
   "metadata": {},
   "source": [
    "$$\\frac{d^2y}{dx^2} = - \\frac{1}{r} = \\frac{M(x)}{EJ} $$"
   ]
  },
  {
   "cell_type": "markdown",
   "id": "9d3d9ffd-11d7-4a2b-9287-5bc36b5b1c59",
   "metadata": {},
   "source": [
    "e"
   ]
  },
  {
   "cell_type": "markdown",
   "id": "9c89d0a2-75de-4616-945e-43ab614cf95f",
   "metadata": {},
   "source": [
    "$$\\frac{d^2M}{dx^2} = - p(x) = \\frac{M(x)}{EJ} $$"
   ]
  },
  {
   "cell_type": "markdown",
   "id": "73960168-9bf9-465c-9fd9-05b3dd0d4557",
   "metadata": {},
   "source": [
    "pode-se imaginar a determinação da deformada $y(x)$, calculando-se os momentos fletores $M^*(x)$, devido a um carregamento imaginário $p^*(x)=1/r(x)$."
   ]
  },
  {
   "cell_type": "markdown",
   "id": "49d0545f-b918-4f96-9431-247fa8273665",
   "metadata": {},
   "source": [
    "* O sistema equivalente de Mohr é o sistema sobre o qual se aplica o carregamento $p^*(x)$, com condições de apoio escolhidas de acordo com as condições de deformação da barra."
   ]
  },
  {
   "cell_type": "markdown",
   "id": "19c125e3-202b-4905-80b8-e208a7dc8b83",
   "metadata": {},
   "source": [
    "### Sistema equivalente de Mohr para um pilar birrotulado:"
   ]
  },
  {
   "cell_type": "markdown",
   "id": "cdf162bd-f34a-4ef8-907b-1859b8510550",
   "metadata": {
    "id": "4e3eb7d3-b94e-42a7-9967-eb43d228c585"
   },
   "source": [
    "<img src=\"./images2/Mohr2.jpg\" alt=\"birrotulado\" style=\"width:500px\"/>"
   ]
  },
  {
   "cell_type": "markdown",
   "id": "683af410-33d3-41ed-af07-c9598241f1ef",
   "metadata": {},
   "source": [
    "### Sistema equivalente de Mohr para um pilar engastado-livre:"
   ]
  },
  {
   "cell_type": "markdown",
   "id": "c8a62396-e58d-479e-90f2-b459b8731139",
   "metadata": {
    "id": "4e3eb7d3-b94e-42a7-9967-eb43d228c585"
   },
   "source": [
    "<img src=\"./images2/Mohr3.jpg\" alt=\"engastado-livre\" style=\"width:500px\"/>"
   ]
  },
  {
   "cell_type": "markdown",
   "id": "93ba18df-2822-4018-a8ad-92b9e739fe2a",
   "metadata": {},
   "source": [
    "### Integração das curvaturas pela analogia de Mohr"
   ]
  },
  {
   "cell_type": "markdown",
   "id": "929e5c41-0ab5-4578-b348-dde170922239",
   "metadata": {},
   "source": [
    "* Deve-se dividir a barra em $n$ partes iguais, com um comprimento $\\Delta_x$. Assim:"
   ]
  },
  {
   "cell_type": "markdown",
   "id": "1514a6ed-f6cb-49c8-ada7-716cd9ae5094",
   "metadata": {},
   "source": [
    "$$\\Delta_x = \\frac{l}{n} $$"
   ]
  },
  {
   "cell_type": "markdown",
   "id": "d1ca1cc6-aa1c-4e4b-8ad0-4263390fa0a1",
   "metadata": {},
   "source": [
    "* Supondo-se que as curvaturas tenham uma variação parabólica, ao longo do comprimento da barra, determinam-se os pesos $w_k$. \n",
    "\n",
    "* Os pesos $w_k$ são forças fictícias, aplicadas nos pontos $k$, equivalentes ao “carregamento” $p^*(x)$ das curvaturas.  \n",
    "\n",
    "* A força fictícia $w_k$ do diagrama de curvaturas é dada por:"
   ]
  },
  {
   "cell_type": "markdown",
   "id": "209344ae-b1aa-4960-b999-04a50bd94e4f",
   "metadata": {},
   "source": [
    "$$ w_k = \\int_{(k-1)\\Delta x}^{k \\Delta x} \\left( \\frac{1}{r} \\right) dx $$"
   ]
  },
  {
   "cell_type": "markdown",
   "id": "ae9da992-8fc1-4e53-bfcd-a8ea7f8c03fd",
   "metadata": {
    "id": "4e3eb7d3-b94e-42a7-9967-eb43d228c585"
   },
   "source": [
    "<img src=\"./images2/Mohr4.jpg\" alt=\"integração das curvaturas\" style=\"width:500px\"/>"
   ]
  },
  {
   "cell_type": "markdown",
   "id": "f1f4b2fd-7757-482d-b591-8c73b6585229",
   "metadata": {},
   "source": [
    "* Considerando esta distribuição, os pesos $w$, nos pontos $k$, valem:"
   ]
  },
  {
   "cell_type": "markdown",
   "id": "b4ee39e1-02ac-4487-95fd-12b9dea2608f",
   "metadata": {},
   "source": [
    "* Para o extremo superior da barra:"
   ]
  },
  {
   "cell_type": "markdown",
   "id": "9827029e-8a11-4a17-a2bb-3e11817d74b0",
   "metadata": {},
   "source": [
    "$$ w_0 = \\frac{\\Delta x}{12} \\left[ 3,5\\left(\\frac{1}{r}\\right)_0 + 3\\left(\\frac{1}{r}\\right)_1 - 0,5\\left(\\frac{1}{r}\\right)_2 \\right] $$"
   ]
  },
  {
   "cell_type": "markdown",
   "id": "0cc7d4ce-79de-4f26-8221-5c8072584210",
   "metadata": {},
   "source": [
    "* Para um ponto intermediário $k$:"
   ]
  },
  {
   "cell_type": "markdown",
   "id": "73a69719-387a-4629-89e3-0b8645eba1f4",
   "metadata": {},
   "source": [
    "$$ w_k = \\frac{\\Delta x}{12} \\left[ \\left(\\frac{1}{r}\\right)_{k-1} + 10\\left(\\frac{1}{r}\\right)_k + \\left(\\frac{1}{r}\\right)_{k+1} \\right] $$"
   ]
  },
  {
   "cell_type": "markdown",
   "id": "72dc882b-ddfa-475d-a23d-d58ccb564ec6",
   "metadata": {},
   "source": [
    "* Para o extremo inferior da barra:"
   ]
  },
  {
   "cell_type": "markdown",
   "id": "a02914ba-a41a-4067-9125-bbaed40ce83d",
   "metadata": {},
   "source": [
    "$$ w_n = \\frac{\\Delta x}{12} \\left[ 3,5\\left(\\frac{1}{r}\\right)_n + 3\\left(\\frac{1}{r}\\right)_{n-1} - 0,5\\left(\\frac{1}{r}\\right)_{n-2} \\right] $$"
   ]
  },
  {
   "cell_type": "markdown",
   "id": "c60594fc-4120-4206-be5b-20871af02db0",
   "metadata": {},
   "source": [
    "* Conhecidos os pesos atuantes em cada ponto é possível calcular as reações fictícias de extremidade da barra equivalente $R^*_0$ e $R^*_n$, por equilíbrio.\n",
    "\n",
    "* Após é feita a determinação do momento fletor fictício $M^*_k$ em cada seção, que corresponde ao deslocamento transversal do pilar $y_k$ nesta seção."
   ]
  },
  {
   "cell_type": "markdown",
   "id": "f818731f-906e-463c-92d1-3d3943eba6c8",
   "metadata": {
    "id": "5bafba8c-efa5-4114-9f0e-603f32dbecc4"
   },
   "source": [
    "## __2.3 - Roteiro do método do equilíbrio__ <a name=\"section_23\"></a>"
   ]
  },
  {
   "cell_type": "code",
   "execution_count": null,
   "id": "ffcdda26-91b4-44c4-b270-a2fa806d5d5d",
   "metadata": {},
   "outputs": [],
   "source": []
  }
 ],
 "metadata": {
  "colab": {
   "name": "Capítulo_1.ipynb",
   "provenance": []
  },
  "kernelspec": {
   "display_name": "Python 3 (ipykernel)",
   "language": "python",
   "name": "python3"
  },
  "language_info": {
   "codemirror_mode": {
    "name": "ipython",
    "version": 3
   },
   "file_extension": ".py",
   "mimetype": "text/x-python",
   "name": "python",
   "nbconvert_exporter": "python",
   "pygments_lexer": "ipython3",
   "version": "3.10.9"
  }
 },
 "nbformat": 4,
 "nbformat_minor": 5
}
