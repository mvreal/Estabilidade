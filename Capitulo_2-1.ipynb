{
 "cells": [
  {
   "cell_type": "markdown",
   "id": "1dc445f3-8f0f-41b7-a0fa-541467a1d3db",
   "metadata": {
    "id": "1dc445f3-8f0f-41b7-a0fa-541467a1d3db"
   },
   "source": [
    "### Universidade Federal do Rio Grande do Sul - UFRGS"
   ]
  },
  {
   "cell_type": "markdown",
   "id": "27d28d81-ad30-4559-b52d-0fee9ac96cae",
   "metadata": {
    "id": "27d28d81-ad30-4559-b52d-0fee9ac96cae"
   },
   "source": [
    "### Escola de Engenharia - EE"
   ]
  },
  {
   "cell_type": "markdown",
   "id": "103a5401-6849-4ee0-a254-08a7f684a870",
   "metadata": {
    "id": "103a5401-6849-4ee0-a254-08a7f684a870"
   },
   "source": [
    "### Programa de Pós-graduação em Engenharia Civil - PPGEC"
   ]
  },
  {
   "cell_type": "markdown",
   "id": "547b79f5-d7a3-4b02-8ce9-7c1647bff36b",
   "metadata": {
    "id": "547b79f5-d7a3-4b02-8ce9-7c1647bff36b"
   },
   "source": [
    "### Disciplina: Tópicos avançados em concreto - PEC00013"
   ]
  },
  {
   "cell_type": "markdown",
   "id": "189e93bb-f3e5-4536-9aec-d09046d6929b",
   "metadata": {
    "id": "189e93bb-f3e5-4536-9aec-d09046d6929b"
   },
   "source": [
    "### Professor: Dr. Mauro de Vasconcellos Real"
   ]
  },
  {
   "cell_type": "markdown",
   "id": "9187878f-2f69-43a6-9e66-d91991265288",
   "metadata": {},
   "source": [
    "# __Aula 02__"
   ]
  },
  {
   "cell_type": "markdown",
   "id": "ce78f794-4773-4210-bf0c-d89fd0e707f7",
   "metadata": {
    "id": "ce78f794-4773-4210-bf0c-d89fd0e707f7"
   },
   "source": [
    "# __Capítulo 2 - Verificação da estabilidade de um pilar pelo método do equilíbrio__ <a name=\"section_2\"></a>"
   ]
  },
  {
   "cell_type": "markdown",
   "id": "e4c7f828-335f-42ac-b316-e8fd6c4a263c",
   "metadata": {
    "id": "e4c7f828-335f-42ac-b316-e8fd6c4a263c"
   },
   "source": [
    "[2.1 - O método do equilíbrio](#section_21)"
   ]
  },
  {
   "cell_type": "markdown",
   "id": "d203a6e2",
   "metadata": {},
   "source": [
    "[2.2 - Determinação dos deslocamentos pela analogia de Mohr](#section_22)"
   ]
  },
  {
   "cell_type": "markdown",
   "id": "5a4de045",
   "metadata": {},
   "source": [
    "[2.3 - Roteiro do método do equilíbrio](#section_23)"
   ]
  },
  {
   "cell_type": "markdown",
   "id": "2140eace-91a1-4d96-87fb-b22b92d0f077",
   "metadata": {
    "tags": []
   },
   "source": [
    "[2.4 -  Determinação das curvaturas das seções a partir do momento fletor e do esforço normal atuante](#section_24)"
   ]
  },
  {
   "cell_type": "markdown",
   "id": "b8e7f44d-738a-4aab-9fef-0434d67f94df",
   "metadata": {},
   "source": [
    "[2.5 -  Derivadas parciais dos esforços resistentes em relação a $\\alpha, b, c$](#section_25)"
   ]
  },
  {
   "cell_type": "markdown",
   "id": "ef17f720-67f0-48a1-b784-edd45acba90b",
   "metadata": {
    "tags": []
   },
   "source": [
    "[2.6 -  Instabilidade na flexão composta oblíqua](#section_26)"
   ]
  },
  {
   "cell_type": "markdown",
   "id": "2f3d0d8f-2e18-4adb-9102-156627494145",
   "metadata": {
    "tags": []
   },
   "source": [
    "[2.7 -  Princípios básicos de cálculo segundo a norma NBR-6118:2014](#section_27)"
   ]
  },
  {
   "cell_type": "markdown",
   "id": "e0717219-ab5e-4eaf-b697-643f1789d3e7",
   "metadata": {
    "tags": []
   },
   "source": [
    "[2.8 -  Consideração da fluência](#section_28)"
   ]
  },
  {
   "cell_type": "markdown",
   "id": "5bafba8c-efa5-4114-9f0e-603f32dbecc4",
   "metadata": {
    "id": "5bafba8c-efa5-4114-9f0e-603f32dbecc4"
   },
   "source": [
    "## __2.1 - O método do equilibrio__ <a name=\"section_21\"></a>"
   ]
  },
  {
   "cell_type": "markdown",
   "id": "aa0d6b7a-de9b-4050-b669-26628c6d4540",
   "metadata": {},
   "source": [
    "### Pilar esbelto sob flexão composta"
   ]
  },
  {
   "cell_type": "markdown",
   "id": "4e3eb7d3-b94e-42a7-9967-eb43d228c585",
   "metadata": {
    "id": "4e3eb7d3-b94e-42a7-9967-eb43d228c585"
   },
   "source": [
    "<img src=\"./images2/curva1.jpg\" alt=\"curva carga-deslocamento\" style=\"width:500px\"/>"
   ]
  },
  {
   "cell_type": "markdown",
   "id": "44de5aac-973b-4f8c-80e4-d7ce8e9fdf69",
   "metadata": {
    "id": "44de5aac-973b-4f8c-80e4-d7ce8e9fdf69"
   },
   "source": [
    "* A idéia básica do __método do equilíbrio__ é realizar a verificação da segurança de um pilar, frente ao estado limite de instabilidade, sem a necessidade da determinação da carga crítica do mesmo. \n",
    "\n",
    "* Ou seja, o __método do equilíbrio__ consiste em verificar-se que, sob a ação do carregamento de cálculo “$F_d$”, tem-se um deslocamento “$a$” em uma seção de referência do pilar, e que tal situação corresponde a uma configuração estável de equilíbrio."
   ]
  },
  {
   "cell_type": "markdown",
   "id": "1e730373-a37d-4368-85d3-35460d5583d9",
   "metadata": {},
   "source": [
    "* Desta forma, calcula-se apenas um ponto do diagrama carga-deslocamento do pilar."
   ]
  },
  {
   "cell_type": "markdown",
   "id": "e51c90c7-5ca4-46a1-888d-fb22be7c3bf0",
   "metadata": {},
   "source": [
    "* Na figura seguinte, apresenta-se, esquematicamente, o procedimento de verificação da estabilidade de um pilar, usando o método do equilíbrio."
   ]
  },
  {
   "cell_type": "markdown",
   "id": "967606ba-e0c7-4a66-b553-05cdcaf8613c",
   "metadata": {
    "id": "4e3eb7d3-b94e-42a7-9967-eb43d228c585"
   },
   "source": [
    "<img src=\"./images2/curva2.jpg\" alt=\"curva carga-deslocamento\" style=\"width:500px\"/>"
   ]
  },
  {
   "cell_type": "markdown",
   "id": "18a27ce1-a419-4c53-921a-03a0f28cb60c",
   "metadata": {},
   "source": [
    "* Na primeira etapa, determina-se o deslocamento $a_1$, calculando-se as solicitações considerando-se a configuração indeformada do pilar.\n",
    "\n",
    "* Qualquer que seja o tipo de carregamento ou de variação da seção transversal, calcula-se a flecha $a_1$ a partir das __relações momento fletor-esforço normal-curvatura__."
   ]
  },
  {
   "cell_type": "markdown",
   "id": "409288c0-ac78-4c11-bdd0-7383781ca7f2",
   "metadata": {
    "id": "4e3eb7d3-b94e-42a7-9967-eb43d228c585"
   },
   "source": [
    "<img src=\"./images2/Mohr1.jpg\" alt=\"analogia de Mohr\" style=\"width:500px\"/>"
   ]
  },
  {
   "cell_type": "markdown",
   "id": "dac13680-5f85-4c95-983f-989ebeb8c244",
   "metadata": {},
   "source": [
    "* As flechas calculadas $a_1, a_2, a_3, \\dots, a_{n-1}, a_n$ constituem-se numa sequência que, quando convergente, comprova a estabilidade da configuração de equilíbrio. \n",
    "\n",
    "* A convergência da sequência pode ser constatada numericamente.\n",
    "\n",
    "* Quando ela ocorre, sabe-se que a carga $F_d$ está abaixo da carga crítica."
   ]
  },
  {
   "cell_type": "markdown",
   "id": "cdc63114-c56b-4559-a660-ee848bf18030",
   "metadata": {},
   "source": [
    "* Desta forma, para aplicação do método do equilíbrio, precisa-se, em cada uma das etapas, do seguinte:\n",
    "\n",
    "1. calcular as solicitações ao longo do eixo do pilar, a partir de uma configuração deformada;\n",
    "\n",
    "2. conhecidas as solicitações de uma seção, calcular a curvatura correspondente;\n",
    "\n",
    "3. integrar as curvaturas das diferentes seções, ao longo do eixo do pilar, para obter os deslocamentos."
   ]
  },
  {
   "cell_type": "markdown",
   "id": "e6d17fbe-fcb2-43c4-a043-0415c35e38bd",
   "metadata": {
    "id": "5bafba8c-efa5-4114-9f0e-603f32dbecc4"
   },
   "source": [
    "## __2.2 - Determinação dos deslocamentos pela analogia de Mohr__ <a name=\"section_22\"></a>"
   ]
  },
  {
   "cell_type": "markdown",
   "id": "b005481d-9f44-4285-b21b-91b8336f3684",
   "metadata": {},
   "source": [
    "* Para a determinação dos deslocamentos dos pilares, é necessário integrar as curvaturas das diversas seções ao longo do eixo do pilar.\n",
    "\n",
    "* Isto pode ser feito através da __analogia de Mohr__."
   ]
  },
  {
   "cell_type": "markdown",
   "id": "94bbbb14-9586-4e4b-9dc4-07d25b2e413e",
   "metadata": {},
   "source": [
    "### Analogia de Mohr"
   ]
  },
  {
   "cell_type": "markdown",
   "id": "990f7e5a-3a7a-48f6-a644-ec647dd88dd6",
   "metadata": {},
   "source": [
    "* Considerando-se a semelhança que existe entre as expressões:"
   ]
  },
  {
   "cell_type": "markdown",
   "id": "7fe33ca9-4f52-46a9-a6ea-17aa6da4396d",
   "metadata": {},
   "source": [
    "$$\\frac{d^2y}{dx^2} = - \\frac{1}{r} = \\frac{M(x)}{EJ} $$"
   ]
  },
  {
   "cell_type": "markdown",
   "id": "9d3d9ffd-11d7-4a2b-9287-5bc36b5b1c59",
   "metadata": {},
   "source": [
    "e"
   ]
  },
  {
   "cell_type": "markdown",
   "id": "9c89d0a2-75de-4616-945e-43ab614cf95f",
   "metadata": {},
   "source": [
    "$$\\frac{d^2M}{dx^2} = - p(x) = \\frac{M(x)}{EJ} $$"
   ]
  },
  {
   "cell_type": "markdown",
   "id": "73960168-9bf9-465c-9fd9-05b3dd0d4557",
   "metadata": {},
   "source": [
    "pode-se imaginar a determinação da deformada $y(x)$, calculando-se os momentos fletores $M^*(x)$, devido a um carregamento imaginário $p^*(x)=1/r(x)$."
   ]
  },
  {
   "cell_type": "markdown",
   "id": "49d0545f-b918-4f96-9431-247fa8273665",
   "metadata": {},
   "source": [
    "* O sistema equivalente de Mohr é o sistema sobre o qual se aplica o carregamento $p^*(x)$, com condições de apoio escolhidas de acordo com as condições de deformação da barra."
   ]
  },
  {
   "cell_type": "markdown",
   "id": "19c125e3-202b-4905-80b8-e208a7dc8b83",
   "metadata": {},
   "source": [
    "### Sistema equivalente de Mohr para um pilar birrotulado:"
   ]
  },
  {
   "cell_type": "markdown",
   "id": "cdf162bd-f34a-4ef8-907b-1859b8510550",
   "metadata": {
    "id": "4e3eb7d3-b94e-42a7-9967-eb43d228c585"
   },
   "source": [
    "<img src=\"./images2/Mohr2.jpg\" alt=\"birrotulado\" style=\"width:500px\"/>"
   ]
  },
  {
   "cell_type": "markdown",
   "id": "683af410-33d3-41ed-af07-c9598241f1ef",
   "metadata": {},
   "source": [
    "### Sistema equivalente de Mohr para um pilar engastado-livre:"
   ]
  },
  {
   "cell_type": "markdown",
   "id": "c8a62396-e58d-479e-90f2-b459b8731139",
   "metadata": {
    "id": "4e3eb7d3-b94e-42a7-9967-eb43d228c585"
   },
   "source": [
    "<img src=\"./images2/Mohr3.jpg\" alt=\"engastado-livre\" style=\"width:500px\"/>"
   ]
  },
  {
   "cell_type": "markdown",
   "id": "93ba18df-2822-4018-a8ad-92b9e739fe2a",
   "metadata": {},
   "source": [
    "### Integração das curvaturas pela analogia de Mohr"
   ]
  },
  {
   "cell_type": "markdown",
   "id": "929e5c41-0ab5-4578-b348-dde170922239",
   "metadata": {},
   "source": [
    "* Deve-se dividir a barra em $n$ partes iguais, com um comprimento $\\Delta_x$. Assim:"
   ]
  },
  {
   "cell_type": "markdown",
   "id": "1514a6ed-f6cb-49c8-ada7-716cd9ae5094",
   "metadata": {},
   "source": [
    "$$\\Delta_x = \\frac{l}{n} $$"
   ]
  },
  {
   "cell_type": "markdown",
   "id": "d1ca1cc6-aa1c-4e4b-8ad0-4263390fa0a1",
   "metadata": {},
   "source": [
    "* Supondo-se que as curvaturas tenham uma variação parabólica, ao longo do comprimento da barra, determinam-se os pesos $w_k$. \n",
    "\n",
    "* Os pesos $w_k$ são forças fictícias, aplicadas nos pontos $k$, equivalentes ao “carregamento” $p^*(x)$ das curvaturas.  \n",
    "\n",
    "* A força fictícia $w_k$ do diagrama de curvaturas é dada por:"
   ]
  },
  {
   "cell_type": "markdown",
   "id": "209344ae-b1aa-4960-b999-04a50bd94e4f",
   "metadata": {},
   "source": [
    "$$ w_k = \\int_{(k-1)\\Delta x}^{k \\Delta x} \\left( \\frac{1}{r} \\right) dx $$"
   ]
  },
  {
   "cell_type": "markdown",
   "id": "ae9da992-8fc1-4e53-bfcd-a8ea7f8c03fd",
   "metadata": {
    "id": "4e3eb7d3-b94e-42a7-9967-eb43d228c585"
   },
   "source": [
    "<img src=\"./images2/Mohr4.jpg\" alt=\"integração das curvaturas\" style=\"width:500px\"/>"
   ]
  },
  {
   "cell_type": "markdown",
   "id": "f1f4b2fd-7757-482d-b591-8c73b6585229",
   "metadata": {},
   "source": [
    "* Considerando esta distribuição, os pesos $w$, nos pontos $k$, valem:"
   ]
  },
  {
   "cell_type": "markdown",
   "id": "b4ee39e1-02ac-4487-95fd-12b9dea2608f",
   "metadata": {},
   "source": [
    "* Para o extremo superior da barra:"
   ]
  },
  {
   "cell_type": "markdown",
   "id": "9827029e-8a11-4a17-a2bb-3e11817d74b0",
   "metadata": {},
   "source": [
    "$$ w_0 = \\frac{\\Delta x}{12} \\left[ 3,5\\left(\\frac{1}{r}\\right)_0 + 3\\left(\\frac{1}{r}\\right)_1 - 0,5\\left(\\frac{1}{r}\\right)_2 \\right] $$"
   ]
  },
  {
   "cell_type": "markdown",
   "id": "0cc7d4ce-79de-4f26-8221-5c8072584210",
   "metadata": {},
   "source": [
    "* Para um ponto intermediário $k$:"
   ]
  },
  {
   "cell_type": "markdown",
   "id": "73a69719-387a-4629-89e3-0b8645eba1f4",
   "metadata": {},
   "source": [
    "$$ w_k = \\frac{\\Delta x}{12} \\left[ \\left(\\frac{1}{r}\\right)_{k-1} + 10\\left(\\frac{1}{r}\\right)_k + \\left(\\frac{1}{r}\\right)_{k+1} \\right] $$"
   ]
  },
  {
   "cell_type": "markdown",
   "id": "72dc882b-ddfa-475d-a23d-d58ccb564ec6",
   "metadata": {},
   "source": [
    "* Para o extremo inferior da barra:"
   ]
  },
  {
   "cell_type": "markdown",
   "id": "a02914ba-a41a-4067-9125-bbaed40ce83d",
   "metadata": {},
   "source": [
    "$$ w_n = \\frac{\\Delta x}{12} \\left[ 3,5\\left(\\frac{1}{r}\\right)_n + 3\\left(\\frac{1}{r}\\right)_{n-1} - 0,5\\left(\\frac{1}{r}\\right)_{n-2} \\right] $$"
   ]
  },
  {
   "cell_type": "markdown",
   "id": "c60594fc-4120-4206-be5b-20871af02db0",
   "metadata": {},
   "source": [
    "* Conhecidos os pesos atuantes em cada ponto é possível calcular as reações fictícias de extremidade da barra equivalente $R^*_0$ e $R^*_n$, por equilíbrio.\n",
    "\n",
    "* Após é feita a determinação do momento fletor fictício $M^*_k$ em cada seção, que corresponde ao deslocamento transversal do pilar $y_k$ nesta seção."
   ]
  },
  {
   "cell_type": "markdown",
   "id": "f818731f-906e-463c-92d1-3d3943eba6c8",
   "metadata": {
    "id": "5bafba8c-efa5-4114-9f0e-603f32dbecc4"
   },
   "source": [
    "## __2.3 - Roteiro do método do equilíbrio__ <a name=\"section_23\"></a>"
   ]
  },
  {
   "cell_type": "markdown",
   "id": "e1311b0c-fc41-475f-9dc2-ed2d33f96f7d",
   "metadata": {},
   "source": [
    "* O roteiro do método do equilíbrio, usando a __analogia de Mohr__, pode ser resumido da seguinte forma:"
   ]
  },
  {
   "cell_type": "markdown",
   "id": "81caa17d-2080-47e7-b528-8ebfa95fcb81",
   "metadata": {},
   "source": [
    "1. Dividir o comprimento da barra em $n$ partes iguais.\n",
    "\n",
    "2. Calcular os esforços solicitantes de primeira ordem em cada um dos $(n+1)$ pontos.\n",
    "\n",
    "3. Escolher o sistema equivalente de Mohr.\n",
    "\n",
    "4. Calcular as curvaturas $(1/r)_k (k=0,n)$, verificando se nenhum estado limite foi excedido.\n",
    "\n",
    "5. Determinar os pesos $w_k$.\n",
    "\n",
    "6. Considerar o sistema equivalente carregado pelas cargas concentradas $w_k$, nos pontos $k$, e determinar os valores de $M^*_k$, que devido a __analogia de Mohr__ são os $y_k$.\n",
    "\n",
    "7. Verificar a convergência:\n",
    "\n",
    "$$ \\left[ \\frac{\\sum_{i=0}^{n} \\Delta y_k^2}{\\sum_{i=0}^{n} y_k^2} \\right]^{\\frac{1}{2}} \\le \\text{toler} $$\n",
    "\n",
    "onde $\\text{toler}$ é a tolerância do processo iterativo, normalmente igual a 1%.\n",
    "\n",
    "8. Caso a condição anterior seja verdadeira, seguir para o passo $(10)$, senão ir para o passo $(9)$.\n",
    "\n",
    "9. Determinar os momentos fletores $M_k$ no sistema deformado e voltar para o passo $(4)$.\n",
    "\n",
    "10. Final do processo, se houver __convergência__ a __configuração deformada__ obtida é de __equilíbrio estável__."
   ]
  },
  {
   "cell_type": "markdown",
   "id": "0fc2117e-884a-4b5f-ad49-40b89db9be16",
   "metadata": {
    "id": "5bafba8c-efa5-4114-9f0e-603f32dbecc4"
   },
   "source": [
    "## __2.4 - Determinação das curvaturas das seções a partir do momento fletor e do esforço normal atuante__ <a name=\"section_24\"></a>"
   ]
  },
  {
   "cell_type": "markdown",
   "id": "c32d0dea-2f0a-4f02-84b4-91792618e6c4",
   "metadata": {},
   "source": [
    "* Na análise da estabilidade de uma estrutura de concreto armado, é necessária a obtenção da configuração deformada de uma seção, para uma determinada combinação de esforços que a solicitam abaixo do seu limite de resistência.\n",
    "\n",
    "* Apresenta-se, a seguir, um procedimento geral para a determinação desta configuração deformada para uma seção de concreto armado, definida por uma poligonal fechada."
   ]
  },
  {
   "cell_type": "markdown",
   "id": "55ff3f21-9441-4fd6-8604-bccf1ecec932",
   "metadata": {},
   "source": [
    "### Definição do problema"
   ]
  },
  {
   "cell_type": "markdown",
   "id": "0686bad7-b4af-45dd-b373-77284bb1d9a8",
   "metadata": {},
   "source": [
    "* O problema pode ser definido da seguinte forma:"
   ]
  },
  {
   "cell_type": "markdown",
   "id": "5242e4e9-9674-41a1-b8b5-155915a2e2a2",
   "metadata": {},
   "source": [
    "<img src=\"./images2/problema.jpg\" alt=\"determinação das curvaturas\" style=\"width:500px\"/>"
   ]
  },
  {
   "cell_type": "markdown",
   "id": "c1bf21c2-af66-4fd3-a011-ddd2c6ceebb9",
   "metadata": {},
   "source": [
    "* Os dados inicialmente conhecidos são:\n",
    "\n",
    "1. a geometria da seção de concreto armado (coordenadas dos vértices da poligonal fechada, coordenadas das barras e suas respectivas percentagens em relação à área total de armadura;\n",
    "\n",
    "2. as resistências características do aço e do concreto ($f_{yk}$ e $f_{ck}$);\n",
    "\n",
    "3. a área total de armadura $A_s$."
   ]
  },
  {
   "cell_type": "markdown",
   "id": "12265aee-68e6-47c1-aa97-ccd5982eea91",
   "metadata": {},
   "source": [
    "* As incógnitas que se deseja determinar são:\n",
    "\n",
    "* a combinação única de parâmetros $\\alpha, b, c$ (inclinação da linha neutra, curvatura e deformação do centróide da seção), que corresponda a esforços resistentes em equilíbrio com os esforços atuantes fornecidos, desde que as deformações extremas superior e inferior da seção de concreto armado, $\\epsilon_S$ e $\\epsilon_I$, não ultrapassem os valores estabelecidos pela NBR-6118. "
   ]
  },
  {
   "cell_type": "markdown",
   "id": "774b2a4e-22a8-4785-84eb-11b93d2b2bc9",
   "metadata": {},
   "source": [
    "### Solução do problema"
   ]
  },
  {
   "cell_type": "markdown",
   "id": "abb21b16-7bf4-4462-b572-08d9cb4336a0",
   "metadata": {},
   "source": [
    "* Na situação mais geral, correspondente à flexo-compressão oblíqua, deve-se resolver um sistema de três equações não-lineares com três incógnitas:"
   ]
  },
  {
   "cell_type": "markdown",
   "id": "3e0417ef-2490-49a4-b5a4-bd461851973f",
   "metadata": {},
   "source": [
    "$$ \\left\\{ \\begin{array}{rl} f(\\alpha,b,c) & =M_{Rx}(\\alpha,b,c) -  M_{Ax} & = 0 \\\\ g(\\alpha,b,c) & = M_{Ry}(\\alpha,b,c) - M_{Ay} & = 0 \\\\ h(\\alpha,b,c) & = N_{R}(\\alpha,b,c) - N_{A} & = 0 \\end{array} \\right.  $$"
   ]
  },
  {
   "cell_type": "markdown",
   "id": "9d1dbef5-756c-442f-910f-44cc0bc48bb5",
   "metadata": {},
   "source": [
    "onde $M_{Rx}, M_{Ry} \\; \\text{e} \\; N_{R}$ são os esforços resistentes, funções dos parâmetros $\\alpha, b, c,$ e $M_{Ax}, M_{Ay} \\; \\text{e} \\; N_{A}$ são os esforços atuantes."
   ]
  },
  {
   "cell_type": "markdown",
   "id": "34987f42-3d09-4046-b1b7-b25480f6c9fc",
   "metadata": {},
   "source": [
    "* Na flexo-compressão reta ou normal, bastaria resolver um sistema de duas equações não-lineares com duas incógnitas ($\\alpha$ = valor conhecido)"
   ]
  },
  {
   "cell_type": "markdown",
   "id": "7f3e99d4-9d88-4b60-9a4b-5875abc361bb",
   "metadata": {},
   "source": [
    "$$ \\left\\{ \\begin{array}{rl} f(b,c) & =M_{Rx}(b,c) -  M_{Ax} & = 0 \\\\ g(b,c) & = N_{R}(b,c) - N_{A} & = 0 \\end{array} \\right.  $$"
   ]
  },
  {
   "cell_type": "markdown",
   "id": "6e722b06-a723-4dc1-9811-bc0e4e926047",
   "metadata": {},
   "source": [
    "* Para resolver este sistema, utilizando-se o __método de Newton-Raphson__, deve-se resolver uma série de sistemas de três equações lineares com três incógnitas, do tipo"
   ]
  },
  {
   "cell_type": "markdown",
   "id": "56727348-8401-4304-9d57-79e27959e19a",
   "metadata": {},
   "source": [
    "$$ \\left[K(\\{u\\}_i)\\right]\\{\\Delta u\\}_i = \\{\\Delta p \\}_i $$"
   ]
  },
  {
   "cell_type": "markdown",
   "id": "a5cd3ce5-3aab-43ad-8b7f-621bfd1cb0ea",
   "metadata": {},
   "source": [
    "sendo que, para i-ésima iteração, tem-se:\n",
    "\n",
    "* $\\{u\\}_i$ -  é o vetor com os parâmetros $\\alpha, b, c$ a serem ajustados;\n",
    "\n",
    "* $\\{\\Delta u\\}_i$ - é o vetor incremental de $\\{u\\}_i$;\n",
    "\n",
    "* $\\{\\Delta p\\}_i$ - é o vetor de diferenças entre os esforços atuantes e os esforços resistentes, correspondentes aos valores de $\\alpha, b, c$ da i-ésima iteração."
   ]
  },
  {
   "cell_type": "markdown",
   "id": "79c2f0a0-6efb-482d-900a-8389188dd058",
   "metadata": {},
   "source": [
    "* A matriz $[K(\\{u\\}_i)]$ contém as derivadas parciais dos esforços resistentes em relação aos parâmetros de ajuste.\n",
    "\n",
    "* Desta forma, pode se escrever a equação anterior, por extenso, do seguinte modo:"
   ]
  },
  {
   "cell_type": "markdown",
   "id": "70fb5659-b659-4df2-b9e7-d978870dad5e",
   "metadata": {},
   "source": [
    "$$ \n",
    "\\begin{bmatrix}\n",
    "\\frac{\\partial{M_{Rx}}}{\\partial{\\alpha}} & \\frac{\\partial{M_{Rx}}}{\\partial{b}} & \\frac{\\partial{M_{Rx}}}{\\partial{c}} \\\\\n",
    "\\frac{\\partial{M_{Ry}}}{\\partial{\\alpha}} & \\frac{\\partial{M_{Ry}}}{\\partial{b}} & \\frac{\\partial{M_{Ry}}}{\\partial{c}} \\\\\n",
    "\\frac{\\partial{N_{R}}}{\\partial{\\alpha}} & \\frac{\\partial{N_{R}}}{\\partial{b}} & \\frac{\\partial{N_{R}}}{\\partial{c}} \\\\\n",
    "\\end{bmatrix} \n",
    "\\begin{Bmatrix}\n",
    "\\Delta \\alpha \\\\\n",
    "\\Delta b \\\\\n",
    "\\Delta c\n",
    "\\end{Bmatrix} \n",
    "= \n",
    "\\begin{Bmatrix}\n",
    "M_{Ax}-M_{Rx} \\\\ \n",
    "M_{Ay} - M_{Ry} \\\\\n",
    "N_{A} - N_{R}\n",
    "\\end{Bmatrix}\n",
    "$$"
   ]
  },
  {
   "cell_type": "markdown",
   "id": "d1cf726d-9d8c-46cf-bc3a-9504d5e445f8",
   "metadata": {},
   "source": [
    "### Algoritmo para a determinação da deformada de uma seção"
   ]
  },
  {
   "cell_type": "markdown",
   "id": "7a371705-fae4-48fe-b4e7-724eccb24a42",
   "metadata": {},
   "source": [
    " * O algoritmo para a determinação da deformada de uma seção, uma vez estabelecidas a geometria da seção de concreto armado (coordenadas dos vértices da poligonal fechada, coordenadas das barras e suas respectivas percentagens em relação à área total de armadura), as resistências características do aço e do concreto ($f_{yk}$ e $f_{ck}$) e a área total de armadura $A_s$, é o seguinte:"
   ]
  },
  {
   "cell_type": "markdown",
   "id": "75fd385a-7721-4e12-9d96-fdc600661421",
   "metadata": {},
   "source": [
    "1. arbitram-se, inicialmente, os parâmetros $\\alpha, b \\; \\text{e} \\; c$ a serem ajustados;\n",
    "\n",
    "2. por integração das tensões, obtêm-se os esforços resistentes $M_{Rx}, M_{Ry} \\; \\text{e} \\; N_{R}$ e os elementos da matriz de derivadas parciais $[K(\\{u\\}_i)]$, correspondentes aos valores de $\\alpha, b \\; \\text{e} \\; c$; da i-ésima iteração;\n",
    "\n",
    "3. calcula-se o vetor de desequilíbrio pela diferença entre esforços atuantes conhecidos e os esforços resistentes obtidos no item anterior\n",
    "\n",
    "$$ \n",
    "\\{\\Delta p\\}_i\n",
    "=\n",
    "\\begin{Bmatrix}\n",
    "\\Delta M_x \\\\\n",
    "\\Delta M_y \\\\\n",
    "\\Delta N\n",
    "\\end{Bmatrix} \n",
    "= \n",
    "\\begin{Bmatrix}\n",
    "M_{Ax}-M_{Rx} \\\\ \n",
    "M_{Ay} - M_{Ry} \\\\\n",
    "N_{A} - N_{R}\n",
    "\\end{Bmatrix}\n",
    "$$\n",
    "\n",
    "4. verifica-se a convergência por:\n",
    "\n",
    "$$\\left[ \\frac{\\Delta M_x^2 + \\Delta M_y^2 + \\Delta N^2}{M_{Ax}^2 + M_{Ay}^2 + N_{A}^2}\\right] \\le toler $$\n",
    "\n",
    "onde $toler$ é a tolerância adotada no processo de solução, normalmente igual a $1\\%$.\n",
    "\n",
    "5. caso a condição acima seja satisfeita, vai-se para o item (9), senão segue-se para (6);\n",
    "\n",
    "6. resolve-se o sistema de equações lineares\n",
    "\n",
    "$$ \\{\\Delta u\\}_i = [K]^{-1} \\{\\Delta p\\}_i $$\n",
    "\n",
    "7. determinam-se $\\alpha, b \\; \\text{e} \\; c$ a partir da expressão:\n",
    "\n",
    "$$ \n",
    "\\{u\\}_{i+1}\n",
    "=\n",
    "\\begin{Bmatrix}\n",
    "\\alpha \\\\\n",
    "b \\\\\n",
    "c\n",
    "\\end{Bmatrix}_{i+1} \n",
    "=\n",
    "\\begin{Bmatrix}\n",
    "\\alpha \\\\\n",
    "b \\\\\n",
    "c\n",
    "\\end{Bmatrix}_{i}\n",
    "+\n",
    "\\begin{Bmatrix}\n",
    "\\Delta \\alpha \\\\\n",
    "\\Delta b \\\\\n",
    "\\Delta c\n",
    "\\end{Bmatrix} \n",
    "$$\n",
    "\n",
    "8. retorna-se ao item (2);\n",
    "\n",
    "9. o processo iterativo é encerrado e a deformada da seção é obtida."
   ]
  },
  {
   "cell_type": "markdown",
   "id": "4ea287ee-3b67-4781-8ef8-3774f7d1153d",
   "metadata": {},
   "source": [
    "* Através deste procedimento são obtidos a inclinação da linha neutra $\\alpha$, a curvatura da seção $b$ e a deformação $c$ do centróide da seção de concreto, correspondentes à área total de armadura $A_s$ preestabelecida, de tal forma que as deformações extremas superior e inferior da seção, $\\epsilon_S$ e $\\epsilon_I$, não ultrapassem os limites prescritos na NBR6118."
   ]
  },
  {
   "cell_type": "markdown",
   "id": "d222bc4b-5684-47b2-8837-d026358accf4",
   "metadata": {
    "id": "5bafba8c-efa5-4114-9f0e-603f32dbecc4"
   },
   "source": [
    "## __2.5 - Derivadas parciais dos esforços resistentes em relação a $\\alpha, b, c$__ <a name=\"section_25\"></a>"
   ]
  },
  {
   "cell_type": "markdown",
   "id": "442b1d3d-f139-44d8-8c0a-9fddb3644a20",
   "metadata": {},
   "source": [
    "* As derivadas parciais dos esforços resistentes, em relação aos parâmetros $\\alpha$, $b$ e $c$, são obtidas conforme foi visto no estudo das seções de concreto armado submetidas a solicitações normais."
   ]
  },
  {
   "cell_type": "markdown",
   "id": "f9d50173-a5dc-422f-9fd1-ed08d7756ae7",
   "metadata": {
    "tags": []
   },
   "source": [
    "### Derivadas parciais dos esforços resistentes em relação à inclinação da linha neutra $\\alpha$"
   ]
  },
  {
   "cell_type": "markdown",
   "id": "e29d81cc-46cd-4b08-8ca8-a8a715b785b1",
   "metadata": {},
   "source": [
    "* Sabendo-se que:"
   ]
  },
  {
   "cell_type": "markdown",
   "id": "3bae4400-2113-4a5a-9c0b-2ff1ddab8105",
   "metadata": {},
   "source": [
    "$$ M_{Rx} = M_{R\\xi} cos\\alpha - M_{R\\eta} sen \\alpha $$\n",
    "\n",
    "$$ M_{Ry} = M_{R\\xi} sen\\alpha + M_{R\\eta} cos \\alpha $$"
   ]
  },
  {
   "cell_type": "markdown",
   "id": "4f9f54fd-1dad-4ebb-ae0a-2b6df9855039",
   "metadata": {},
   "source": [
    "* As derivadas dos esforços resistentes em relação a $\\alpha$ serão dadas por:"
   ]
  },
  {
   "cell_type": "markdown",
   "id": "a3521639-7d2d-4f91-9ab1-ef37af64116b",
   "metadata": {},
   "source": [
    "$$ \\frac{\\partial{M_{Rx}}}{\\partial{\\alpha}} =  -M_{R\\xi}sen\\alpha - M_{R\\eta}cos\\alpha = - M_{Ry} $$"
   ]
  },
  {
   "cell_type": "markdown",
   "id": "de30bfce-36f3-431e-9ecb-8c3513b2046b",
   "metadata": {},
   "source": [
    "$$ \\frac{\\partial{M_{Ry}}}{\\partial{\\alpha}} =  M_{R\\xi}cos\\alpha - M_{R\\eta}sen\\alpha =  M_{Rx} $$"
   ]
  },
  {
   "cell_type": "markdown",
   "id": "f4b419ec-07a3-452d-989a-1d6e008dedef",
   "metadata": {},
   "source": [
    "$$ \\frac{\\partial{N_{R}}}{\\partial{\\alpha}} =  0 $$"
   ]
  },
  {
   "cell_type": "markdown",
   "id": "41c9fa1f-5f36-4521-a754-50b3ce53dd10",
   "metadata": {},
   "source": [
    "### Derivadas parciais dos esforços resistentes em relação à curvatura $b$"
   ]
  },
  {
   "cell_type": "markdown",
   "id": "9aaee70d-fbe1-43ce-b5e4-28ecfaedc18d",
   "metadata": {},
   "source": [
    "* Para a seção de concreto:"
   ]
  },
  {
   "cell_type": "markdown",
   "id": "50171c03-cb45-4b08-b404-dd777d904a93",
   "metadata": {},
   "source": [
    "$$ \\frac{\\partial{M_{R\\xi}}}{\\partial{b}} = \\sigma_{cd} \\sum_{i=1}^{n1} \\left( \\kappa_1 G_{02} + \\kappa_2 G_{03}\\right) $$"
   ]
  },
  {
   "cell_type": "markdown",
   "id": "21bd2b8f-39d8-4178-be36-3f3ce8604a4e",
   "metadata": {},
   "source": [
    "$$ \\frac{\\partial{M_{R\\eta}}}{\\partial{b}} = -\\sigma_{cd} \\sum_{i=1}^{n1} \\left( \\kappa_1 G_{11} + \\kappa_2 G_{12}\\right) $$"
   ]
  },
  {
   "cell_type": "markdown",
   "id": "81391e9b-518f-47cc-be93-3fa9ed82151b",
   "metadata": {},
   "source": [
    "$$ \\frac{\\partial{N_{R}}}{\\partial{b}} = \\sigma_{cd} \\sum_{i=1}^{n1} \\left( \\kappa_1 G_{01} + \\kappa_2 G_{02}\\right) $$"
   ]
  },
  {
   "cell_type": "markdown",
   "id": "bba352a3-bc72-4a0f-827f-e4214d4ba3e3",
   "metadata": {},
   "source": [
    "onde:"
   ]
  },
  {
   "cell_type": "markdown",
   "id": "293c4853-66f4-4878-ba16-e0fa19ad6e1b",
   "metadata": {},
   "source": [
    "$$\\kappa_1 = 1000 + 5000c $$"
   ]
  },
  {
   "cell_type": "markdown",
   "id": "a196850a-531d-4943-ad18-4a48562f3025",
   "metadata": {},
   "source": [
    "$$ \\kappa_2 = 50000 b $$"
   ]
  },
  {
   "cell_type": "markdown",
   "id": "3eb66477-3db7-446d-949b-3844af61f44c",
   "metadata": {},
   "source": [
    "* Para a seção de aço:"
   ]
  },
  {
   "cell_type": "markdown",
   "id": "12439465-7fb6-4d2a-94e7-23a225c3b47d",
   "metadata": {},
   "source": [
    "$$ \\frac{\\partial{M_{R\\xi}}}{\\partial{b}} =  \\sum_{j=1}^{m} \\rho_{j} A_{s} E_T(\\epsilon_{j})\\eta_{j}^2 $$"
   ]
  },
  {
   "cell_type": "markdown",
   "id": "18fe4967-621a-405e-a655-277ac2bdc9ca",
   "metadata": {},
   "source": [
    "$$ \\frac{\\partial{M_{R\\eta}}}{\\partial{b}} = - \\sum_{j=1}^{m} \\rho_{j} A_{s} E_T(\\epsilon_{j})\\xi_{j}\\eta_{j} $$"
   ]
  },
  {
   "cell_type": "markdown",
   "id": "96f8a8c5-c6d3-41ea-883a-03215022c350",
   "metadata": {},
   "source": [
    "$$ \\frac{\\partial{N_{R}}}{\\partial{b}} =  \\sum_{j=1}^{m} \\rho_{j} A_{s} E_T(\\epsilon_{j}) \\eta_{j} $$"
   ]
  },
  {
   "cell_type": "markdown",
   "id": "3254ea3d-6d20-49fd-b705-78c652228541",
   "metadata": {},
   "source": [
    "* Finalmente, tem-se:"
   ]
  },
  {
   "cell_type": "markdown",
   "id": "2a3e3767-6388-4f39-8d45-56fe7c17c5ab",
   "metadata": {},
   "source": [
    "$$ \\frac{\\partial{M_{Rx}}}{\\partial{b}} = \\frac{\\partial{M_{R\\xi}}}{\\partial{b}} cos\\alpha - \\frac{\\partial{M_{R\\eta}}}{\\partial{b}} sen \\alpha $$\n",
    "\n",
    "$$ \\frac{\\partial{M_{Ry}}}{\\partial{b}} = \\frac{\\partial{M_{R\\xi}}}{\\partial{b}} sen\\alpha + \\frac{\\partial{M_{R\\eta}}}{\\partial{b}} cos \\alpha $$\n",
    "\n"
   ]
  },
  {
   "cell_type": "markdown",
   "id": "49f01358-0253-4006-be53-c66faac6ac21",
   "metadata": {},
   "source": [
    "### Derivadas parciais dos esforços resistentes em relação à deformação no centroide da seção  $c$"
   ]
  },
  {
   "cell_type": "markdown",
   "id": "b4ded937-05cb-4c42-866d-6a85c5ebd86f",
   "metadata": {},
   "source": [
    "* Para a seção de concreto:"
   ]
  },
  {
   "cell_type": "markdown",
   "id": "19a76cb5-d633-46b8-bb7b-940c87f4754d",
   "metadata": {},
   "source": [
    "$$ \\frac{\\partial{M_{R\\xi}}}{\\partial{c}} = \\sigma_{cd} \\sum_{i=1}^{n1} \\left( \\kappa_1 G_{01} + \\kappa_2 G_{02}\\right) $$"
   ]
  },
  {
   "cell_type": "markdown",
   "id": "250556e0-ccaf-4f8f-be04-0d32369902df",
   "metadata": {},
   "source": [
    "$$ \\frac{\\partial{M_{R\\eta}}}{\\partial{c}} = -\\sigma_{cd} \\sum_{i=1}^{n1} \\left(\\kappa_1 G_{10} + \\kappa_2 G_{11} \\right) $$"
   ]
  },
  {
   "cell_type": "markdown",
   "id": "2222e1cd-ea1b-464c-8fe3-3f87e1caead3",
   "metadata": {},
   "source": [
    "$$ \\frac{\\partial{N_{R}}}{\\partial{c}} = \\sigma_{cd} \\sum_{i=1}^{n1} \\left(\\kappa_1 G_{00} + \\kappa_2 G_{01} \\right) $$"
   ]
  },
  {
   "cell_type": "markdown",
   "id": "4e295762-5f76-4c2e-adec-a5a50877179c",
   "metadata": {},
   "source": [
    "* Para a seção de aço:"
   ]
  },
  {
   "cell_type": "markdown",
   "id": "76918baf-258a-4334-87f0-8e382a2f73e1",
   "metadata": {},
   "source": [
    "$$ \\frac{\\partial{M_{R\\xi}}}{\\partial{c}} =  \\sum_{j=1}^{m} \\rho_{j} A_{s} E_T(\\epsilon_{j})\\eta_{j} $$"
   ]
  },
  {
   "cell_type": "markdown",
   "id": "e5b99197-e7d8-4b9c-8373-213a88e55d72",
   "metadata": {},
   "source": [
    "$$ \\frac{\\partial{M_{R\\eta}}}{\\partial{c}} = - \\sum_{j=1}^{m} \\rho_{j} A_{s} E_T(\\epsilon_{j})\\xi_{j} $$"
   ]
  },
  {
   "cell_type": "markdown",
   "id": "4605a456-1535-4b09-ba3e-d858198f1a97",
   "metadata": {},
   "source": [
    "$$ \\frac{\\partial{N_{R}}}{\\partial{c}} =  \\sum_{j=1}^{m} \\rho_{j} A_{s} E_T(\\epsilon_{j}) $$"
   ]
  },
  {
   "cell_type": "markdown",
   "id": "d2583779-84af-4ef1-8324-26cc222b9b62",
   "metadata": {},
   "source": [
    "* Finalmente, tem-se que:"
   ]
  },
  {
   "cell_type": "markdown",
   "id": "9f1f173d-7390-4fc0-8bac-879f55947484",
   "metadata": {},
   "source": [
    "$$ \\frac{\\partial{M_{Rx}}}{\\partial{c}} = \\frac{\\partial{M_{R\\xi}}}{\\partial{c}} cos\\alpha - \\frac{\\partial{M_{R\\eta}}}{\\partial{c}} sen \\alpha $$\n",
    "\n",
    "$$ \\frac{\\partial{M_{Ry}}}{\\partial{c}} = \\frac{\\partial{M_{R\\xi}}}{\\partial{c}} sen\\alpha + \\frac{\\partial{M_{R\\eta}}}{\\partial{c}} cos \\alpha $$\n",
    "\n"
   ]
  },
  {
   "cell_type": "markdown",
   "id": "81f73d4e-658e-410b-98ee-4fa0afac1c28",
   "metadata": {
    "id": "5bafba8c-efa5-4114-9f0e-603f32dbecc4"
   },
   "source": [
    "## __2.6 - Instabilidade na flexão composta oblíqua__ <a name=\"section_26\"></a>"
   ]
  },
  {
   "cell_type": "markdown",
   "id": "7653553f-7efc-4bb3-8662-e00498c40412",
   "metadata": {},
   "source": [
    "### Configuração deformada do pilar na flexão composta oblíqua"
   ]
  },
  {
   "cell_type": "markdown",
   "id": "c07a75b3-0e91-4544-8fd4-c06483b7a456",
   "metadata": {},
   "source": [
    "* O eixo de uma barra, submetida à ação de um carregamento que produz flexão composta oblíqua em suas seções transversais, sofre deformações. \n",
    "\n",
    "* No caso de barras esbeltas, os deslocamentos transversais criam as excentricidades $e_2$ de segunda ordem, as quais não podem ser ignoradas no estudo da peça."
   ]
  },
  {
   "cell_type": "markdown",
   "id": "d08b5d15-60d0-4c69-803a-ffeb9a8e586c",
   "metadata": {},
   "source": [
    "<img src=\"./images2/fco1.jpg\" alt=\"instabilidade na FCO\" style=\"width:500px\"/>"
   ]
  },
  {
   "cell_type": "markdown",
   "id": "5041c298-2184-41a1-ab03-0c128d6c184b",
   "metadata": {},
   "source": [
    "* O eixo deformado do pilar é uma curva reversa, já que o plano de flexão é variável, de seção para seção, em virtude da própria deformação da barra.\n",
    "\n",
    "* A deformada do pilar só vai ser uma curva plana, se a linha neutra de todas as seções tiver sempre a mesma direção, fato este que não pode acontecer, quando o plano de flexão varia de seção para seção."
   ]
  },
  {
   "cell_type": "code",
   "execution_count": null,
   "id": "d5d8cdc5-6730-4f62-8b9e-19584fb7c43d",
   "metadata": {},
   "outputs": [],
   "source": []
  }
 ],
 "metadata": {
  "colab": {
   "name": "Capítulo_1.ipynb",
   "provenance": []
  },
  "kernelspec": {
   "display_name": "Python 3 (ipykernel)",
   "language": "python",
   "name": "python3"
  },
  "language_info": {
   "codemirror_mode": {
    "name": "ipython",
    "version": 3
   },
   "file_extension": ".py",
   "mimetype": "text/x-python",
   "name": "python",
   "nbconvert_exporter": "python",
   "pygments_lexer": "ipython3",
   "version": "3.10.9"
  }
 },
 "nbformat": 4,
 "nbformat_minor": 5
}
